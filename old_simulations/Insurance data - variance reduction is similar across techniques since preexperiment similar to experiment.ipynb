{
 "cells": [
  {
   "cell_type": "code",
   "execution_count": 1,
   "id": "89c65393",
   "metadata": {},
   "outputs": [],
   "source": [
    "import numpy as np\n",
    "import pandas as pd\n",
    "import matplotlib.pyplot as plt\n",
    "import seaborn as sns\n",
    "from sklearn import preprocessing, metrics\n",
    "from sklearn.model_selection import train_test_split, GridSearchCV\n",
    "import xgboost as xgb\n",
    "from xgboost.sklearn import XGBRegressor\n",
    "import random\n",
    "import scipy.stats as stats"
   ]
  },
  {
   "cell_type": "code",
   "execution_count": 51,
   "id": "f07c6815",
   "metadata": {},
   "outputs": [
    {
     "name": "stdout",
     "output_type": "stream",
     "text": [
      "(986, 11)\n"
     ]
    },
    {
     "data": {
      "text/html": [
       "<div>\n",
       "<style scoped>\n",
       "    .dataframe tbody tr th:only-of-type {\n",
       "        vertical-align: middle;\n",
       "    }\n",
       "\n",
       "    .dataframe tbody tr th {\n",
       "        vertical-align: top;\n",
       "    }\n",
       "\n",
       "    .dataframe thead th {\n",
       "        text-align: right;\n",
       "    }\n",
       "</style>\n",
       "<table border=\"1\" class=\"dataframe\">\n",
       "  <thead>\n",
       "    <tr style=\"text-align: right;\">\n",
       "      <th></th>\n",
       "      <th>Age</th>\n",
       "      <th>Diabetes</th>\n",
       "      <th>BloodPressureProblems</th>\n",
       "      <th>AnyTransplants</th>\n",
       "      <th>AnyChronicDiseases</th>\n",
       "      <th>Height</th>\n",
       "      <th>Weight</th>\n",
       "      <th>KnownAllergies</th>\n",
       "      <th>HistoryOfCancerInFamily</th>\n",
       "      <th>NumberOfMajorSurgeries</th>\n",
       "      <th>PremiumPrice</th>\n",
       "    </tr>\n",
       "  </thead>\n",
       "  <tbody>\n",
       "    <tr>\n",
       "      <th>0</th>\n",
       "      <td>45</td>\n",
       "      <td>0</td>\n",
       "      <td>0</td>\n",
       "      <td>0</td>\n",
       "      <td>0</td>\n",
       "      <td>155</td>\n",
       "      <td>57</td>\n",
       "      <td>0</td>\n",
       "      <td>0</td>\n",
       "      <td>0</td>\n",
       "      <td>25000</td>\n",
       "    </tr>\n",
       "    <tr>\n",
       "      <th>1</th>\n",
       "      <td>60</td>\n",
       "      <td>1</td>\n",
       "      <td>0</td>\n",
       "      <td>0</td>\n",
       "      <td>0</td>\n",
       "      <td>180</td>\n",
       "      <td>73</td>\n",
       "      <td>0</td>\n",
       "      <td>0</td>\n",
       "      <td>0</td>\n",
       "      <td>29000</td>\n",
       "    </tr>\n",
       "    <tr>\n",
       "      <th>2</th>\n",
       "      <td>36</td>\n",
       "      <td>1</td>\n",
       "      <td>1</td>\n",
       "      <td>0</td>\n",
       "      <td>0</td>\n",
       "      <td>158</td>\n",
       "      <td>59</td>\n",
       "      <td>0</td>\n",
       "      <td>0</td>\n",
       "      <td>1</td>\n",
       "      <td>23000</td>\n",
       "    </tr>\n",
       "    <tr>\n",
       "      <th>3</th>\n",
       "      <td>52</td>\n",
       "      <td>1</td>\n",
       "      <td>1</td>\n",
       "      <td>0</td>\n",
       "      <td>1</td>\n",
       "      <td>183</td>\n",
       "      <td>93</td>\n",
       "      <td>0</td>\n",
       "      <td>0</td>\n",
       "      <td>2</td>\n",
       "      <td>28000</td>\n",
       "    </tr>\n",
       "    <tr>\n",
       "      <th>4</th>\n",
       "      <td>38</td>\n",
       "      <td>0</td>\n",
       "      <td>0</td>\n",
       "      <td>0</td>\n",
       "      <td>1</td>\n",
       "      <td>166</td>\n",
       "      <td>88</td>\n",
       "      <td>0</td>\n",
       "      <td>0</td>\n",
       "      <td>1</td>\n",
       "      <td>23000</td>\n",
       "    </tr>\n",
       "  </tbody>\n",
       "</table>\n",
       "</div>"
      ],
      "text/plain": [
       "   Age  Diabetes  BloodPressureProblems  AnyTransplants  AnyChronicDiseases  \\\n",
       "0   45         0                      0               0                   0   \n",
       "1   60         1                      0               0                   0   \n",
       "2   36         1                      1               0                   0   \n",
       "3   52         1                      1               0                   1   \n",
       "4   38         0                      0               0                   1   \n",
       "\n",
       "   Height  Weight  KnownAllergies  HistoryOfCancerInFamily  \\\n",
       "0     155      57               0                        0   \n",
       "1     180      73               0                        0   \n",
       "2     158      59               0                        0   \n",
       "3     183      93               0                        0   \n",
       "4     166      88               0                        0   \n",
       "\n",
       "   NumberOfMajorSurgeries  PremiumPrice  \n",
       "0                       0         25000  \n",
       "1                       0         29000  \n",
       "2                       1         23000  \n",
       "3                       2         28000  \n",
       "4                       1         23000  "
      ]
     },
     "execution_count": 51,
     "metadata": {},
     "output_type": "execute_result"
    }
   ],
   "source": [
    "# load data: https://www.kaggle.com/datasets/tejashvi14/medical-insurance-premium-prediction?select=Medicalpremium.csv\n",
    "# data set to predict insurance premium based on demographic/health/other factors.\n",
    "data = pd.read_csv(\"../AB/Medicalpremium.csv\")\n",
    "print(data.shape)\n",
    "data.head()"
   ]
  },
  {
   "cell_type": "code",
   "execution_count": 52,
   "id": "c6582df3",
   "metadata": {},
   "outputs": [
    {
     "data": {
      "text/plain": [
       "array([[ 0.23319694, -0.85075039, -0.93897784, ..., -0.52335629,\n",
       "        -0.36514837, -0.89118667],\n",
       "       [ 1.30798124,  1.1754329 , -0.93897784, ..., -0.52335629,\n",
       "        -0.36514837, -0.89118667],\n",
       "       [-0.41167363,  1.1754329 ,  1.06498786, ..., -0.52335629,\n",
       "        -0.36514837,  0.44423895],\n",
       "       ...,\n",
       "       [ 1.02137209, -0.85075039,  1.06498786, ..., -0.52335629,\n",
       "        -0.36514837,  0.44423895],\n",
       "       [ 0.37650152,  1.1754329 ,  1.06498786, ...,  1.9107442 ,\n",
       "        -0.36514837,  0.44423895],\n",
       "       [-1.48645793, -0.85075039, -0.93897784, ...,  1.9107442 ,\n",
       "        -0.36514837,  0.44423895]])"
      ]
     },
     "execution_count": 52,
     "metadata": {},
     "output_type": "execute_result"
    }
   ],
   "source": [
    "from sklearn.preprocessing import StandardScaler\n",
    "colnames = list(data)\n",
    "X = data[colnames[:-1]]\n",
    "Xsc = StandardScaler().fit_transform(X)\n",
    "y = data[colnames[-1]]\n",
    "Xsc"
   ]
  },
  {
   "cell_type": "code",
   "execution_count": 57,
   "id": "36414b4a",
   "metadata": {},
   "outputs": [
    {
     "data": {
      "text/plain": [
       "{'max_depth': 5, 'min_child_weight': 1, 'n_estimators': 56}"
      ]
     },
     "execution_count": 57,
     "metadata": {},
     "output_type": "execute_result"
    }
   ],
   "source": [
    "test_percentage = 0.2\n",
    "X_train, X_test, y_train, y_test = train_test_split(Xsc, y, test_size=test_percentage, random_state=1)\n",
    "\n",
    "params=[{'n_estimators': [56], 'max_depth': [5], 'min_child_weight':[1]}]\n",
    "xgb1 = XGBRegressor(learning_rate =0.1, subsample=0.8, \n",
    "                    colsample_bytree=0.8, scale_pos_weight=1, seed=10)\n",
    "gs1 = GridSearchCV(xgb1, param_grid = params, scoring='neg_mean_squared_error',cv = 10)\n",
    "gs1.fit(X_train,y_train)\n",
    "gs1.best_params_"
   ]
  },
  {
   "cell_type": "code",
   "execution_count": 65,
   "id": "4d009fb3",
   "metadata": {},
   "outputs": [],
   "source": [
    "# compare two sample, cuped with prediction (theta is on prediction), prediction, and \n",
    "# cuped with residual (theta is on covariate, regressing on outcome - prediction)\n",
    "np.random.seed(1)\n",
    "random.seed(1)\n",
    "y = y_test.reset_index(drop=True)\n",
    "x = X_test\n",
    "n = len(y)\n",
    "te = 3000\n",
    "sim_num = 1000\n",
    "temp = []\n",
    "n0 = n\n",
    "n1 = n\n",
    "pred_var = 0\n",
    "preds = gs1.predict(X_test)\n",
    "for i in range(sim_num):\n",
    "    #control_idx = random.sample(range(n),n//2)\n",
    "    #treat_idx = list(set(range(n)).difference(control_idx))\n",
    "    # or if with replacement\n",
    "    control_idx = random.choices(range(n), k=n0)\n",
    "    treat_idx = random.choices(range(n), k=n1)\n",
    "    control_idx.sort()\n",
    "    treat_idx.sort()\n",
    "    control_x = x[control_idx]\n",
    "    treat_x = x[treat_idx]\n",
    "    control_y = y[control_idx]\n",
    "    treat_y = y[treat_idx] + te\n",
    "    #preds = pre_exp(x) + np.random.normal(0,pred_var**0.5,n)\n",
    "    r_treat = treat_y - preds[treat_idx]\n",
    "    r_control = control_y - preds[control_idx]\n",
    "    \n",
    "    # cuped with residual\n",
    "    # need to use CENTERED X and CENTERED R in optimal beta (or it will give biased result)\n",
    "    r_treat_bar = r_treat - r_treat.mean()\n",
    "    r_control_bar = r_control - r_control.mean()\n",
    "    treat_x_bar = treat_x - treat_x.mean(axis=0)\n",
    "    control_x_bar = control_x - control_x.mean(axis=0)\n",
    "    optimal_beta = np.matmul(np.linalg.inv(np.matmul(np.transpose(treat_x_bar),treat_x_bar)/n1 + np.matmul(np.transpose(control_x_bar),control_x_bar)/n0),\n",
    "                    (np.matmul(np.transpose(treat_x_bar), r_treat_bar)/n1 + np.matmul(np.transpose(control_x_bar), r_control_bar)/n0))\n",
    "    optimal_alpha1 = np.mean(r_treat) - np.mean(np.matmul(treat_x,optimal_beta))\n",
    "    optimal_alpha0 = np.mean(r_control) - np.mean(np.matmul(control_x,optimal_beta))\n",
    "    cf_for_treat = preds[treat_idx] + optimal_alpha0 + np.mean(np.matmul(treat_x,optimal_beta))\n",
    "    cf_for_control = preds[control_idx] + optimal_alpha1 + np.mean(np.matmul(control_x,optimal_beta))\n",
    "    #pair_est = optimal_alpha1 - optimal_alpha0\n",
    "    pair_est = (np.sum(treat_y - cf_for_treat) + np.sum(cf_for_control - control_y))/(n1+n0)\n",
    "    pair_se = (np.var(r_treat-optimal_alpha1-np.matmul(treat_x_bar,optimal_beta))/n1 +\\\n",
    "               np.var(r_control-optimal_alpha0-np.matmul(control_x_bar,optimal_beta))/n0)**0.5\n",
    "    \n",
    "    # two sample t test\n",
    "    two_est = np.mean(treat_y) - np.mean(control_y)\n",
    "    two_se = (np.var(treat_y, ddof=1)/n1 + np.var(control_y, ddof=1)/n0)**0.5\n",
    "\n",
    "    # prediction (constant shift)\n",
    "    shift_alpha1 = np.mean(treat_y - preds[treat_idx])\n",
    "    shift_alpha0 = np.mean(control_y - preds[control_idx])\n",
    "    shift_for_treat = preds[treat_idx] + shift_alpha0\n",
    "    shift_for_control = preds[control_idx] + shift_alpha1\n",
    "    shift_pair_est = (np.sum(treat_y - shift_for_treat) + np.sum(shift_for_control - control_y))/(n1+n0)\n",
    "    shift_se = (np.var(treat_y - preds[treat_idx],ddof=1)/n1 +\\\n",
    "                np.var(control_y - preds[control_idx],ddof=1)/n0)**0.5\n",
    "    \n",
    "    # cuped on prediction\n",
    "    theta = (np.cov(preds[treat_idx], treat_y)[0,1]/n1 + np.cov(preds[control_idx], control_y)[0,1]/n0)/(np.var(preds[treat_idx])/n1 + np.var(preds[control_idx])/n0)\n",
    "    cuped_est = np.mean(treat_y - theta * preds[treat_idx]) - np.mean(control_y - theta * preds[control_idx])\n",
    "    cuped_se = (np.var(treat_y - theta * preds[treat_idx], ddof=1)/n1 + \\\n",
    "               np.var(control_y - theta * preds[control_idx], ddof=1)/n0)**0.5\n",
    "    \n",
    "    temp.append([pair_est, pair_se, two_est, two_se, shift_pair_est, shift_se, cuped_est, cuped_se])\n",
    "\n",
    "sim_res = pd.DataFrame(temp, columns = ['pair_est', 'pair_se', 'two_est', 'two_se', \n",
    "                                        'shift_pair_est', 'shift_se', 'cuped_est', 'cuped_se'])"
   ]
  },
  {
   "cell_type": "code",
   "execution_count": 68,
   "id": "a5e760fd",
   "metadata": {},
   "outputs": [
    {
     "data": {
      "image/png": "[encoded data removed]",
      "text/plain": [
       "<Figure size 640x480 with 1 Axes>"
      ]
     },
     "metadata": {},
     "output_type": "display_data"
    },
    {
     "name": "stdout",
     "output_type": "stream",
     "text": [
      "two_est           2999.717172\n",
      "shift_pair_est    3005.197842\n",
      "pair_est          3005.744508\n",
      "cuped_est         3004.304696\n",
      "dtype: float64\n",
      "Bias: \n",
      " two_est          -0.000094\n",
      "shift_pair_est    0.001733\n",
      "pair_est          0.001915\n",
      "cuped_est         0.001435\n",
      "dtype: float64\n"
     ]
    }
   ],
   "source": [
    "# set up bins\n",
    "bin_min, bin_max = sim_res[['two_est','shift_pair_est','pair_est','cuped_est']].min().min(), sim_res[['two_est','shift_pair_est','pair_est','cuped_est']].max().max()\n",
    "num_bins = 200\n",
    "b_range = np.arange(bin_min, bin_max, (bin_max-bin_min)/num_bins)\n",
    "plt.hist(sim_res['two_est'], bins = b_range, label = 'two_est', alpha=0.2)\n",
    "plt.hist(sim_res['shift_pair_est'],bins = b_range,label='shift_est',alpha=0.2)\n",
    "plt.hist(sim_res['pair_est'], bins = b_range,label='pred_linear_est',alpha=0.2)\n",
    "plt.hist(sim_res['cuped_est'],bins = b_range, label='cuped_pred_est', alpha=0.2)\n",
    "plt.axvline(np.mean(sim_res['two_est']), color = 'blue', linestyle='--')\n",
    "plt.axvline(np.mean(sim_res['shift_pair_est']), color = 'orange', linestyle='--')\n",
    "plt.axvline(np.mean(sim_res['pair_est']), color='green',linestyle='--')\n",
    "plt.axvline(np.mean(sim_res['cuped_est']), color = 'red', linestyle='--')\n",
    "plt.legend()\n",
    "plt.show()\n",
    "print(\"Bias%: \\n\", (sim_res[['two_est','shift_pair_est','pair_est','cuped_est']].mean()-te)/te)"
   ]
  },
  {
   "cell_type": "code",
   "execution_count": 70,
   "id": "a6ff42bc",
   "metadata": {},
   "outputs": [
    {
     "data": {
      "image/png": "[encoded data removed]",
      "text/plain": [
       "<Figure size 640x480 with 1 Axes>"
      ]
     },
     "metadata": {},
     "output_type": "display_data"
    },
    {
     "name": "stdout",
     "output_type": "stream",
     "text": [
      "Variance Reduction%: \n",
      " two_se      0.000000\n",
      "shift_se    0.438610\n",
      "pair_se     0.459536\n",
      "cuped_se    0.440768\n",
      "dtype: float64\n"
     ]
    }
   ],
   "source": [
    "bin_min, bin_max = sim_res[['two_se','shift_se','pair_se','cuped_se']].min().min(), sim_res[['two_se','shift_se','pair_se','cuped_se']].max().max()\n",
    "num_bins = 200\n",
    "b_range = np.arange(bin_min, bin_max, (bin_max-bin_min)/num_bins)\n",
    "plt.hist(sim_res['two_se'], bins = b_range, label='two_se',alpha=0.2)\n",
    "plt.hist(sim_res['shift_se'],bins = b_range,label='shift_se',alpha=0.2)\n",
    "plt.hist(sim_res['pair_se'],bins = b_range,label='pair_se',alpha=0.2)\n",
    "plt.hist(sim_res['cuped_se'],bins = b_range,label='cuped_se',alpha=0.2)\n",
    "plt.axvline(np.std(sim_res['two_est'],ddof=1), color='blue', linestyle='--')\n",
    "plt.axvline(np.std(sim_res['shift_pair_est'],ddof=1), color='orange', linestyle='--')\n",
    "plt.axvline(np.std(sim_res['pair_est'],ddof=1), color='green', linestyle='--')\n",
    "plt.axvline(np.std(sim_res['cuped_est'],ddof=1), color='red', linestyle='--')\n",
    "plt.legend()\n",
    "plt.show()\n",
    "print(\"Variance Reduction%: \\n\", 1-(sim_res[['two_se','shift_se','pair_se','cuped_se']].mean()/sim_res['two_se'].mean()))"
   ]
  },
  {
   "cell_type": "code",
   "execution_count": null,
   "id": "7c2a0833",
   "metadata": {},
   "outputs": [],
   "source": []
  }
 ],
 "metadata": {
  "kernelspec": {
   "display_name": "Python 3 (ipykernel)",
   "language": "python",
   "name": "python3"
  },
  "language_info": {
   "codemirror_mode": {
    "name": "ipython",
    "version": 3
   },
   "file_extension": ".py",
   "mimetype": "text/x-python",
   "name": "python",
   "nbconvert_exporter": "python",
   "pygments_lexer": "ipython3",
   "version": "3.11.5"
  }
 },
 "nbformat": 4,
 "nbformat_minor": 5
}
